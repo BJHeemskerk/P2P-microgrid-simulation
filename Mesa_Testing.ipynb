{
 "cells": [
  {
   "cell_type": "markdown",
   "metadata": {},
   "source": [
    "# Mesa Testing\n",
    "\n",
    "In this notebook we test and develop the needed classes that are going to be used in the eventual P2P-energy trading simulation."
   ]
  },
  {
   "cell_type": "code",
   "execution_count": 7,
   "metadata": {},
   "outputs": [],
   "source": [
    "import numpy as np\n",
    "import pandas as pd\n",
    "import seaborn as sns\n",
    "import matplotlib.pyplot as plt\n",
    "import mesa"
   ]
  },
  {
   "cell_type": "code",
   "execution_count": null,
   "metadata": {},
   "outputs": [],
   "source": [
    "class Household(mesa.Agent):\n",
    "    def __init__(self, model):\n",
    "        super().__init__(model)\n",
    "        values = np.array([0, 1, 2, 3, 4, 5, 6, 7, 8, 9, 10, 11, 12, 13, 14, 15, 16])\n",
    "        probabilities = np.array([0.66, 0.01, 0.01, 0.01, 0.01, 0.01, 0.01, 0.01, 0.01, 0.01, 0.07, 0.01, 0.07, 0.01, 0.01, 0.01, 0.07])\n",
    "        probabilities /= probabilities.sum()\n",
    "\n",
    "        self.amount_of_solarpanels = np.random.choice(values, p=probabilities)\n",
    "        self.consume_ph = np.random.randint(399, 513 + 1)\n",
    "        self.produce_ph = self.amount_of_solarpanels * np.random.randint(300, 340 + 1)\n",
    "        self.energy = 456\n",
    "        self.money = 10\n",
    "        self.price_per_Wh = 0.00024\n",
    "\n",
    "    def trade_energy(self):\n",
    "        self.energy += self.produce_ph\n",
    "        self.energy -= self.consume_ph\n",
    "\n",
    "        while True:\n",
    "            possible_buyers = [agent for agent in self.model.agents if agent.energy < agent.consume_ph]\n",
    "            surplus_energy = self.energy - self.consume_ph\n",
    "\n",
    "            if surplus_energy > 0 and not possible_buyers:\n",
    "                sell_to_gov = surplus_energy * self.price_per_Wh\n",
    "                self.money += sell_to_gov\n",
    "                self.energy -= surplus_energy\n",
    "                break  \n",
    "\n",
    "            if surplus_energy <= 0 or not possible_buyers:\n",
    "                break\n",
    "\n",
    "            possible_buyers.sort(key=lambda agent: agent.consume_ph - agent.energy, reverse=True)\n",
    "\n",
    "            for other_household in possible_buyers:\n",
    "                trade_amount = min(surplus_energy, other_household.consume_ph - other_household.energy)\n",
    "\n",
    "                if trade_amount <= 0:\n",
    "                    continue\n",
    "\n",
    "                self.energy -= trade_amount\n",
    "                other_household.energy += trade_amount\n",
    "                surplus_energy -= trade_amount\n",
    "\n",
    "                amount_owed = self.price_per_Wh * trade_amount\n",
    "\n",
    "                if other_household.money >= amount_owed:\n",
    "                    self.money += amount_owed\n",
    "                    other_household.money -= amount_owed\n",
    "                else:\n",
    "                    affordable_trade = other_household.money / self.price_per_Wh\n",
    "                    self.money += other_household.money\n",
    "                    other_household.money = 0\n",
    "                    trade_amount = affordable_trade\n",
    "                    self.energy += (trade_amount - affordable_trade)\n",
    "\n",
    "                if surplus_energy <= 0:\n",
    "                    break"
   ]
  },
  {
   "cell_type": "code",
   "execution_count": 210,
   "metadata": {},
   "outputs": [],
   "source": [
    "class Microgrid(mesa.Model):\n",
    "    def __init__(self, n, seed=None):\n",
    "        super().__init__(seed=seed)\n",
    "        self.num_agents = n\n",
    "\n",
    "        Household.create_agents(model=self, n=n)\n",
    "\n",
    "    def step(self):\n",
    "        self.agents.shuffle_do(\"trade_energy\")"
   ]
  },
  {
   "cell_type": "code",
   "execution_count": 211,
   "metadata": {},
   "outputs": [],
   "source": [
    "sim = Microgrid(20)\n",
    "sim.step()"
   ]
  },
  {
   "cell_type": "code",
   "execution_count": 212,
   "metadata": {},
   "outputs": [],
   "source": [
    "sim = Microgrid(20)\n",
    "for _ in range(24):\n",
    "    sim.step()"
   ]
  },
  {
   "cell_type": "code",
   "execution_count": 215,
   "metadata": {},
   "outputs": [
    {
     "data": {
      "image/png": "[encoded data removed]",
      "text/plain": [
       "<Figure size 640x480 with 1 Axes>"
      ]
     },
     "metadata": {},
     "output_type": "display_data"
    }
   ],
   "source": [
    "agent_wealth = [\n",
    "    a.energy for a in sim.agents\n",
    "]\n",
    "\n",
    "g = sns.histplot(\n",
    "    agent_wealth\n",
    ")\n",
    "\n",
    "g.set(\n",
    "    title=\"Wattage Distribution\", xlabel=\"Wattage\", ylabel=\"Number of Agents\"\n",
    ");"
   ]
  },
  {
   "cell_type": "code",
   "execution_count": null,
   "metadata": {},
   "outputs": [],
   "source": []
  }
 ],
 "metadata": {
  "kernelspec": {
   "display_name": "Python 3",
   "language": "python",
   "name": "python3"
  },
  "language_info": {
   "codemirror_mode": {
    "name": "ipython",
    "version": 3
   },
   "file_extension": ".py",
   "mimetype": "text/x-python",
   "name": "python",
   "nbconvert_exporter": "python",
   "pygments_lexer": "ipython3",
   "version": "3.12.3"
  }
 },
 "nbformat": 4,
 "nbformat_minor": 2
}
